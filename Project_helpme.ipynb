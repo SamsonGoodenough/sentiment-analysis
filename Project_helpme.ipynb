{
 "cells": [
  {
   "cell_type": "markdown",
   "metadata": {},
   "source": [
    "# Sentiment Analysis - CP322\n",
    "## Riley Huston (190954880) | Samson Goodenough (190723380) | Shailendra Singh ()"
   ]
  },
  {
   "cell_type": "code",
   "execution_count": null,
   "metadata": {},
   "outputs": [],
   "source": [
    "# import libraries\n",
    "import nltk\n",
    "import pandas as pd\n",
    "import sklearn\n",
    "import re\n",
    "from nltk.corpus import stopwords\n",
    "from nltk.stem.wordnet import WordNetLemmatizer\n",
    "from nltk.stem.porter import PorterStemmer\n",
    "from nltk.tokenize import word_tokenize\n",
    "\n",
    "# visualization\n",
    "import matplotlib.pyplot as plt\n",
    "from nltk.probability import FreqDist\n",
    "\n",
    "# download dependenciesquirements\n",
    "nltk.download('punkt')\n",
    "nltk.download('averaged_perceptron_tagger')\n",
    "nltk.download('stopwords')\n",
    "nltk.download('wordnet')\n",
    "nltk.download('wordnet')\n",
    "nltk.download('omw-1.4')\n",
    "nltk.download('treebank')\n",
    "nltk.download('tagsets')\n",
    "nltk.download('vader_lexicon')\n",
    "\n",
    "print('Finished downloading')"
   ]
  },
  {
   "cell_type": "code",
   "execution_count": null,
   "metadata": {},
   "outputs": [],
   "source": [
    "# import data\n",
    "df = pd.read_csv('reviews.csv')\n",
    "\n",
    "# remove all reviews with no positive feedback to remove potential spam and unhelpful reviews\n",
    "df = df[df['Positive Feedback Count'] > 0]\n",
    "\n",
    "# remove all null and unnecessary features for reviews\n",
    "reviews = df.drop(labels=['Clothing ID', 'Title'], axis=1)\n",
    "reviews.dropna(inplace=True)\n",
    "reviews.head()\n",
    "reviews.shape"
   ]
  },
  {
   "cell_type": "code",
   "execution_count": null,
   "metadata": {},
   "outputs": [],
   "source": [
    "# remove all null and unnecessary features for titles\n",
    "titles = df.drop(labels=['Clothing ID', 'Review Text'], axis=1)\n",
    "titles.dropna(inplace=True)\n",
    "titles.head()"
   ]
  },
  {
   "cell_type": "code",
   "execution_count": null,
   "metadata": {},
   "outputs": [],
   "source": [
    "# Tokenize all reviews into words\n",
    "corpusReview = []\n",
    "for review in reviews['Review Text']:\n",
    "    corpusReview.append(word_tokenize(review))\n",
    "\n",
    "# make stopwords and prepare for stemming\n",
    "stop_words=set(stopwords.words(\"english\"))\n",
    "stem = PorterStemmer()\n",
    "\n",
    "# Filter out all the stopwords and stem the words\n",
    "filteredCorpusReview = []\n",
    "flattenedCorpusReview = []\n",
    "for i in range(len(corpusReview)):\n",
    "    filteredCorpusReview.append([])\n",
    "    for token in corpusReview[i]:\n",
    "        if token not in stop_words and not re.match(r'^[_\\W0-9]+$', token): # remove stop words and single special character words\n",
    "            filteredCorpusReview[i].append(stem.stem(token))\n",
    "            flattenedCorpusReview.append(stem.stem(token))\n",
    "    filteredCorpusReview[i] = ' '.join(filteredCorpusReview[i])\n",
    "    "
   ]
  },
  {
   "cell_type": "code",
   "execution_count": null,
   "metadata": {},
   "outputs": [],
   "source": [
    "# Tokenize all Titles into words\n",
    "corpusTitle = []\n",
    "for title in titles['Title']:\n",
    "    corpusTitle.append(word_tokenize(title))\n",
    "\n",
    "# Filter out all the stopwords and stem the words\n",
    "filteredCorpusTitle = []\n",
    "flattenedCorpusTitle = []\n",
    "for i in range(len(corpusTitle)):\n",
    "    filteredCorpusTitle.append([])\n",
    "    for token in corpusTitle[i]:\n",
    "        if token not in stop_words and not re.match(r'^[_\\W0-9]+$', token): # remove stop words and single special character words\n",
    "            filteredCorpusTitle[i].append(stem.stem(token))\n",
    "            flattenedCorpusTitle.append(stem.stem(token))\n",
    "    filteredCorpusTitle[i] = ' '.join(filteredCorpusTitle[i])\n",
    "    "
   ]
  },
  {
   "cell_type": "markdown",
   "metadata": {},
   "source": [
    "### Visualization"
   ]
  },
  {
   "cell_type": "code",
   "execution_count": null,
   "metadata": {},
   "outputs": [],
   "source": [
    "# Visualize the frequency of words in reviews\n",
    "fdistReview = FreqDist(flattenedCorpusReview)\n",
    "print(fdistReview)\n",
    "\n",
    "# Plot the frequency of review words\n",
    "fdistReview.plot(30,cumulative=False)\n",
    "plt.show()"
   ]
  },
  {
   "cell_type": "code",
   "execution_count": null,
   "metadata": {},
   "outputs": [],
   "source": [
    "# Visualize the frequency of words in reviews\n",
    "fdistTitle = FreqDist(flattenedCorpusTitle)\n",
    "print(fdistTitle)\n",
    "\n",
    "# Plot the frequency of review words\n",
    "fdistTitle.plot(30,cumulative=False)\n",
    "plt.show()\n",
    "\n",
    "print(len(filteredCorpusTitle))"
   ]
  },
  {
   "cell_type": "code",
   "execution_count": null,
   "metadata": {},
   "outputs": [],
   "source": [
    "from sklearn.feature_extraction.text import CountVectorizer\n",
    "#tokenizer to remove unwanted elements from out data like symbols and numbers\n",
    "cvr = CountVectorizer(lowercase=True,ngram_range = (1,1))\n",
    "trainingReview = cvr.fit_transform(filteredCorpusReview).toarray()\n"
   ]
  },
  {
   "cell_type": "code",
   "execution_count": null,
   "metadata": {},
   "outputs": [],
   "source": [
    "#tokenizer to remove unwanted elements from out data like symbols and numbers\n",
    "cvt = CountVectorizer(lowercase=True,ngram_range = (1,1))\n",
    "trainingTitle = cvt.fit_transform(filteredCorpusTitle).toarray()"
   ]
  },
  {
   "cell_type": "code",
   "execution_count": null,
   "metadata": {},
   "outputs": [],
   "source": [
    "# Create a dataframe to visualize the bag of words model\n",
    "dfr = pd.DataFrame(data=trainingReview,columns = cvr.get_feature_names_out())\n",
    "dfr"
   ]
  },
  {
   "cell_type": "code",
   "execution_count": null,
   "metadata": {},
   "outputs": [],
   "source": [
    "# Create a dataframe to visualize the bag of words model\n",
    "dft = pd.DataFrame(data=trainingTitle,columns = cvt.get_feature_names_out())\n",
    "dft"
   ]
  },
  {
   "cell_type": "markdown",
   "metadata": {},
   "source": [
    "### Trial Run With User Generated Ratings"
   ]
  },
  {
   "cell_type": "code",
   "execution_count": null,
   "metadata": {},
   "outputs": [],
   "source": [
    "from sklearn.model_selection import train_test_split\n",
    "X_train, X_test, y_train, y_test = train_test_split(trainingReview, reviews['Rating'], test_size=0.3)"
   ]
  },
  {
   "cell_type": "code",
   "execution_count": null,
   "metadata": {},
   "outputs": [],
   "source": [
    "from sklearn.naive_bayes import MultinomialNB\n",
    "#Import scikit-learn metrics module for accuracy calculation\n",
    "from sklearn import metrics\n",
    "# Model Generation Using Multinomial Naive Bayes\n",
    "clf = MultinomialNB().fit(X_train, y_train)\n",
    "predicted= clf.predict(X_test)\n",
    "print(\"MultinomialNB Accuracy:\",metrics.accuracy_score(y_test, predicted))"
   ]
  },
  {
   "cell_type": "code",
   "execution_count": null,
   "metadata": {},
   "outputs": [],
   "source": [
    "from sklearn.feature_extraction.text import TfidfVectorizer\n",
    "tf=TfidfVectorizer()\n",
    "text_tf= tf.fit_transform(filteredCorpusReview).toarray()"
   ]
  },
  {
   "cell_type": "code",
   "execution_count": null,
   "metadata": {},
   "outputs": [],
   "source": [
    "from sklearn.model_selection import train_test_split\n",
    "X_train, X_test, y_train, y_test = train_test_split(\n",
    "    text_tf, reviews['Rating'], test_size=0.3)"
   ]
  },
  {
   "cell_type": "code",
   "execution_count": null,
   "metadata": {},
   "outputs": [],
   "source": [
    "# Model Generation Using Multinomial Naive Bayes\n",
    "clf = MultinomialNB().fit(X_train, y_train)\n",
    "predicted= clf.predict(X_test)\n",
    "print(\"MultinomialNB Accuracy:\",metrics.accuracy_score(y_test, predicted))"
   ]
  },
  {
   "cell_type": "code",
   "execution_count": null,
   "metadata": {},
   "outputs": [],
   "source": [
    "# Helps map sentiment values to rating values\n",
    "def map(value, minFrom, maxFrom, minTo, maxTo):\n",
    "    return (value - minFrom) * (maxTo - minTo) / (maxFrom - minFrom) + minTo"
   ]
  },
  {
   "cell_type": "code",
   "execution_count": null,
   "metadata": {},
   "outputs": [],
   "source": [
    "from nltk.corpus import subjectivity\n",
    "from nltk.sentiment import SentimentAnalyzer\n",
    "from nltk.sentiment.util import *\n",
    "from nltk.sentiment.vader import SentimentIntensityAnalyzer"
   ]
  },
  {
   "cell_type": "code",
   "execution_count": null,
   "metadata": {},
   "outputs": [],
   "source": [
    "sid = SentimentIntensityAnalyzer()\n",
    "\n",
    "for review in filteredCorpusReview:\n",
    "    print(review)\n",
    "    ss = sid.polarity_scores(review)\n",
    "    for k in sorted(ss):\n",
    "        print('{0}: {1}, '.format(k, ss[k]), end='')\n",
    "    print()\n"
   ]
  },
  {
   "cell_type": "code",
   "execution_count": null,
   "metadata": {},
   "outputs": [],
   "source": [
    "for review in reviews[\"Review Text\"]:\n",
    "    print(review)\n",
    "    ss = sid.polarity_scores(review)\n",
    "    for k in sorted(ss):\n",
    "        print('{0}: {1}, '.format(k, ss[k]), end='')\n",
    "    print()"
   ]
  },
  {
   "cell_type": "code",
   "execution_count": null,
   "metadata": {},
   "outputs": [],
   "source": [
    "rpusus"
   ]
  }
 ],
 "metadata": {
  "interpreter": {
   "hash": "bacf26b833236dd16c1d0631dea430f371c6d715a07dbe00e5a37dc0b31d3ebe"
  },
  "kernelspec": {
   "display_name": "Python 3.10.0 64-bit",
   "language": "python",
   "name": "python3"
  },
  "language_info": {
   "codemirror_mode": {
    "name": "ipython",
    "version": 3
   },
   "file_extension": ".py",
   "mimetype": "text/x-python",
   "name": "python",
   "nbconvert_exporter": "python",
   "pygments_lexer": "ipython3",
   "version": "3.10.0"
  },
  "orig_nbformat": 4
 },
 "nbformat": 4,
 "nbformat_minor": 2
}
