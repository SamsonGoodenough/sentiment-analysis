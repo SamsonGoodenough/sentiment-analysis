{
 "cells": [
  {
   "cell_type": "code",
   "execution_count": 1,
   "metadata": {},
   "outputs": [
    {
     "ename": "NameError",
     "evalue": "name 'nltk' is not defined",
     "output_type": "error",
     "traceback": [
      "\u001b[1;31m---------------------------------------------------------------------------\u001b[0m",
      "\u001b[1;31mNameError\u001b[0m                                 Traceback (most recent call last)",
      "\u001b[1;32mc:\\Users\\mrrjh\\OneDrive\\Documents\\VSCODE\\CP322\\trash.ipynb Cell 1'\u001b[0m in \u001b[0;36m<cell line: 2>\u001b[1;34m()\u001b[0m\n\u001b[0;32m      <a href='vscode-notebook-cell:/c%3A/Users/mrrjh/OneDrive/Documents/VSCODE/CP322/trash.ipynb#ch0000000?line=0'>1</a>\u001b[0m sentence \u001b[39m=\u001b[39m \u001b[39m\"\"\"\u001b[39m\u001b[39mAt eight o\u001b[39m\u001b[39m'\u001b[39m\u001b[39mclock on Thursday morning Arthur didn\u001b[39m\u001b[39m'\u001b[39m\u001b[39mt feel very good good good good good good good better good.\u001b[39m\u001b[39m\"\"\"\u001b[39m\n\u001b[1;32m----> <a href='vscode-notebook-cell:/c%3A/Users/mrrjh/OneDrive/Documents/VSCODE/CP322/trash.ipynb#ch0000000?line=1'>2</a>\u001b[0m tokens \u001b[39m=\u001b[39m nltk\u001b[39m.\u001b[39mword_tokenize(sentence)\n\u001b[0;32m      <a href='vscode-notebook-cell:/c%3A/Users/mrrjh/OneDrive/Documents/VSCODE/CP322/trash.ipynb#ch0000000?line=2'>3</a>\u001b[0m tokens\n",
      "\u001b[1;31mNameError\u001b[0m: name 'nltk' is not defined"
     ]
    }
   ],
   "source": [
    "# import libraries\n",
    "import nltk\n",
    "from nltk.probability import FreqDist\n",
    "from nltk.corpus import stopwords\n",
    "from nltk.stem import PorterStemmer\n",
    "from nltk.stem.wordnet import WordNetLemmatizer\n",
    "from nltk.stem.porter import PorterStemmer\n",
    "import matplotlib.pyplot as plt\n",
    "\n",
    "# download requirements\n",
    "nltk.download('punkt')\n",
    "nltk.download('averaged_perceptron_tagger')\n",
    "nltk.download('stopwords')\n",
    "nltk.download('wordnet')\n",
    "nltk.download('wordnet')\n",
    "nltk.download('omw-1.4')\n",
    "nltk.download('treebank')\n",
    "nltk.download('tagsets')"
   ]
  },
  {
   "cell_type": "code",
   "execution_count": null,
   "metadata": {},
   "outputs": [],
   "source": [
    "sentence = \"\"\"At eight o'clock on Thursday morning Arthur didn't feel very good good good good good good good better good.\"\"\"\n",
    "tokens = nltk.word_tokenize(sentence)\n",
    "tokens"
   ]
  },
  {
   "cell_type": "code",
   "execution_count": 2,
   "metadata": {},
   "outputs": [
    {
     "ename": "NameError",
     "evalue": "name 'FreqDist' is not defined",
     "output_type": "error",
     "traceback": [
      "\u001b[1;31m---------------------------------------------------------------------------\u001b[0m",
      "\u001b[1;31mNameError\u001b[0m                                 Traceback (most recent call last)",
      "\u001b[1;32mc:\\Users\\mrrjh\\OneDrive\\Documents\\VSCODE\\CP322\\trash.ipynb Cell 2'\u001b[0m in \u001b[0;36m<cell line: 1>\u001b[1;34m()\u001b[0m\n\u001b[1;32m----> <a href='vscode-notebook-cell:/c%3A/Users/mrrjh/OneDrive/Documents/VSCODE/CP322/trash.ipynb#ch0000001?line=0'>1</a>\u001b[0m fdist \u001b[39m=\u001b[39m FreqDist(tokens)\n\u001b[0;32m      <a href='vscode-notebook-cell:/c%3A/Users/mrrjh/OneDrive/Documents/VSCODE/CP322/trash.ipynb#ch0000001?line=1'>2</a>\u001b[0m \u001b[39mprint\u001b[39m(fdist)\n\u001b[0;32m      <a href='vscode-notebook-cell:/c%3A/Users/mrrjh/OneDrive/Documents/VSCODE/CP322/trash.ipynb#ch0000001?line=2'>3</a>\u001b[0m fdist\u001b[39m.\u001b[39mmost_common(\u001b[39m2\u001b[39m)\n",
      "\u001b[1;31mNameError\u001b[0m: name 'FreqDist' is not defined"
     ]
    }
   ],
   "source": [
    "fdist = FreqDist(tokens)\n",
    "print(fdist)\n",
    "fdist.most_common(2)"
   ]
  },
  {
   "cell_type": "code",
   "execution_count": 4,
   "metadata": {},
   "outputs": [
    {
     "ename": "NameError",
     "evalue": "name 'fdist' is not defined",
     "output_type": "error",
     "traceback": [
      "\u001b[1;31m---------------------------------------------------------------------------\u001b[0m",
      "\u001b[1;31mNameError\u001b[0m                                 Traceback (most recent call last)",
      "\u001b[1;32mc:\\Users\\mrrjh\\OneDrive\\Documents\\VSCODE\\CP322\\trash.ipynb Cell 3'\u001b[0m in \u001b[0;36m<cell line: 1>\u001b[1;34m()\u001b[0m\n\u001b[1;32m----> <a href='vscode-notebook-cell:/c%3A/Users/mrrjh/OneDrive/Documents/VSCODE/CP322/trash.ipynb#ch0000002?line=0'>1</a>\u001b[0m fdist\u001b[39m.\u001b[39mplot(\u001b[39m30\u001b[39m,cumulative\u001b[39m=\u001b[39m\u001b[39mFalse\u001b[39;00m)\n\u001b[0;32m      <a href='vscode-notebook-cell:/c%3A/Users/mrrjh/OneDrive/Documents/VSCODE/CP322/trash.ipynb#ch0000002?line=1'>2</a>\u001b[0m plt\u001b[39m.\u001b[39mshow()\n",
      "\u001b[1;31mNameError\u001b[0m: name 'fdist' is not defined"
     ]
    }
   ],
   "source": [
    "fdist.plot(30,cumulative=False)\n",
    "plt.show()\n"
   ]
  },
  {
   "cell_type": "code",
   "execution_count": 5,
   "metadata": {},
   "outputs": [
    {
     "ename": "NameError",
     "evalue": "name 'stopwords' is not defined",
     "output_type": "error",
     "traceback": [
      "\u001b[1;31m---------------------------------------------------------------------------\u001b[0m",
      "\u001b[1;31mNameError\u001b[0m                                 Traceback (most recent call last)",
      "\u001b[1;32mc:\\Users\\mrrjh\\OneDrive\\Documents\\VSCODE\\CP322\\trash.ipynb Cell 4'\u001b[0m in \u001b[0;36m<cell line: 1>\u001b[1;34m()\u001b[0m\n\u001b[1;32m----> <a href='vscode-notebook-cell:/c%3A/Users/mrrjh/OneDrive/Documents/VSCODE/CP322/trash.ipynb#ch0000003?line=0'>1</a>\u001b[0m stop_words\u001b[39m=\u001b[39m\u001b[39mset\u001b[39m(stopwords\u001b[39m.\u001b[39mwords(\u001b[39m\"\u001b[39m\u001b[39menglish\u001b[39m\u001b[39m\"\u001b[39m))\n\u001b[0;32m      <a href='vscode-notebook-cell:/c%3A/Users/mrrjh/OneDrive/Documents/VSCODE/CP322/trash.ipynb#ch0000003?line=1'>2</a>\u001b[0m \u001b[39mprint\u001b[39m(stop_words)\n",
      "\u001b[1;31mNameError\u001b[0m: name 'stopwords' is not defined"
     ]
    }
   ],
   "source": [
    "stop_words=set(stopwords.words(\"english\"))\n",
    "print(stop_words)"
   ]
  },
  {
   "cell_type": "code",
   "execution_count": 7,
   "metadata": {},
   "outputs": [
    {
     "ename": "NameError",
     "evalue": "name 'tokens' is not defined",
     "output_type": "error",
     "traceback": [
      "\u001b[1;31m---------------------------------------------------------------------------\u001b[0m",
      "\u001b[1;31mNameError\u001b[0m                                 Traceback (most recent call last)",
      "\u001b[1;32mc:\\Users\\mrrjh\\OneDrive\\Documents\\VSCODE\\CP322\\trash.ipynb Cell 5'\u001b[0m in \u001b[0;36m<cell line: 3>\u001b[1;34m()\u001b[0m\n\u001b[0;32m      <a href='vscode-notebook-cell:/c%3A/Users/mrrjh/OneDrive/Documents/VSCODE/CP322/trash.ipynb#ch0000004?line=0'>1</a>\u001b[0m filtered_sent\u001b[39m=\u001b[39m[]\n\u001b[0;32m      <a href='vscode-notebook-cell:/c%3A/Users/mrrjh/OneDrive/Documents/VSCODE/CP322/trash.ipynb#ch0000004?line=1'>2</a>\u001b[0m removed_words \u001b[39m=\u001b[39m []\n\u001b[1;32m----> <a href='vscode-notebook-cell:/c%3A/Users/mrrjh/OneDrive/Documents/VSCODE/CP322/trash.ipynb#ch0000004?line=2'>3</a>\u001b[0m \u001b[39mfor\u001b[39;00m word \u001b[39min\u001b[39;00m tokens:\n\u001b[0;32m      <a href='vscode-notebook-cell:/c%3A/Users/mrrjh/OneDrive/Documents/VSCODE/CP322/trash.ipynb#ch0000004?line=3'>4</a>\u001b[0m     \u001b[39mif\u001b[39;00m word \u001b[39mnot\u001b[39;00m \u001b[39min\u001b[39;00m stop_words:\n\u001b[0;32m      <a href='vscode-notebook-cell:/c%3A/Users/mrrjh/OneDrive/Documents/VSCODE/CP322/trash.ipynb#ch0000004?line=4'>5</a>\u001b[0m         filtered_sent\u001b[39m.\u001b[39mappend(word)\n",
      "\u001b[1;31mNameError\u001b[0m: name 'tokens' is not defined"
     ]
    }
   ],
   "source": [
    "filtered_sent=[]\n",
    "removed_words = []\n",
    "for word in tokens:\n",
    "    if word not in stop_words:\n",
    "        filtered_sent.append(word)\n",
    "    else:\n",
    "        removed_words.append(word)\n",
    "print(\"Tokenized Sentence:\", tokens)\n",
    "print(\"Filterd Sentence:\", filtered_sent)\n",
    "print(\"Removed\", removed_words)"
   ]
  },
  {
   "cell_type": "code",
   "execution_count": 8,
   "metadata": {},
   "outputs": [
    {
     "ename": "NameError",
     "evalue": "name 'PorterStemmer' is not defined",
     "output_type": "error",
     "traceback": [
      "\u001b[1;31m---------------------------------------------------------------------------\u001b[0m",
      "\u001b[1;31mNameError\u001b[0m                                 Traceback (most recent call last)",
      "\u001b[1;32mc:\\Users\\mrrjh\\OneDrive\\Documents\\VSCODE\\CP322\\trash.ipynb Cell 6'\u001b[0m in \u001b[0;36m<cell line: 1>\u001b[1;34m()\u001b[0m\n\u001b[1;32m----> <a href='vscode-notebook-cell:/c%3A/Users/mrrjh/OneDrive/Documents/VSCODE/CP322/trash.ipynb#ch0000005?line=0'>1</a>\u001b[0m ps \u001b[39m=\u001b[39m PorterStemmer()\n\u001b[0;32m      <a href='vscode-notebook-cell:/c%3A/Users/mrrjh/OneDrive/Documents/VSCODE/CP322/trash.ipynb#ch0000005?line=2'>3</a>\u001b[0m stemmed_words\u001b[39m=\u001b[39m[]\n\u001b[0;32m      <a href='vscode-notebook-cell:/c%3A/Users/mrrjh/OneDrive/Documents/VSCODE/CP322/trash.ipynb#ch0000005?line=3'>4</a>\u001b[0m \u001b[39mfor\u001b[39;00m w \u001b[39min\u001b[39;00m filtered_sent:\n",
      "\u001b[1;31mNameError\u001b[0m: name 'PorterStemmer' is not defined"
     ]
    }
   ],
   "source": [
    "ps = PorterStemmer()\n",
    "\n",
    "stemmed_words=[]\n",
    "for w in filtered_sent:\n",
    "    stemmed_words.append(ps.stem(w))\n",
    "\n",
    "print(\"Filtered Sentence:\",filtered_sent)\n",
    "print(\"Stemmed Sentence:\",stemmed_words)"
   ]
  },
  {
   "cell_type": "code",
   "execution_count": 9,
   "metadata": {},
   "outputs": [
    {
     "ename": "NameError",
     "evalue": "name 'WordNetLemmatizer' is not defined",
     "output_type": "error",
     "traceback": [
      "\u001b[1;31m---------------------------------------------------------------------------\u001b[0m",
      "\u001b[1;31mNameError\u001b[0m                                 Traceback (most recent call last)",
      "\u001b[1;32mc:\\Users\\mrrjh\\OneDrive\\Documents\\VSCODE\\CP322\\trash.ipynb Cell 7'\u001b[0m in \u001b[0;36m<cell line: 4>\u001b[1;34m()\u001b[0m\n\u001b[0;32m      <a href='vscode-notebook-cell:/c%3A/Users/mrrjh/OneDrive/Documents/VSCODE/CP322/trash.ipynb#ch0000006?line=0'>1</a>\u001b[0m \u001b[39m#Lexicon Normalization\u001b[39;00m\n\u001b[0;32m      <a href='vscode-notebook-cell:/c%3A/Users/mrrjh/OneDrive/Documents/VSCODE/CP322/trash.ipynb#ch0000006?line=1'>2</a>\u001b[0m \u001b[39m#performing stemming and Lemmatization\u001b[39;00m\n\u001b[1;32m----> <a href='vscode-notebook-cell:/c%3A/Users/mrrjh/OneDrive/Documents/VSCODE/CP322/trash.ipynb#ch0000006?line=3'>4</a>\u001b[0m lem \u001b[39m=\u001b[39m WordNetLemmatizer()\n\u001b[0;32m      <a href='vscode-notebook-cell:/c%3A/Users/mrrjh/OneDrive/Documents/VSCODE/CP322/trash.ipynb#ch0000006?line=5'>6</a>\u001b[0m stem \u001b[39m=\u001b[39m PorterStemmer()\n\u001b[0;32m      <a href='vscode-notebook-cell:/c%3A/Users/mrrjh/OneDrive/Documents/VSCODE/CP322/trash.ipynb#ch0000006?line=7'>8</a>\u001b[0m word \u001b[39m=\u001b[39m \u001b[39m\"\u001b[39m\u001b[39mabsolute\u001b[39m\u001b[39m\"\u001b[39m\n",
      "\u001b[1;31mNameError\u001b[0m: name 'WordNetLemmatizer' is not defined"
     ]
    }
   ],
   "source": [
    "#Lexicon Normalization\n",
    "#performing stemming and Lemmatization\n",
    "\n",
    "lem = WordNetLemmatizer()\n",
    "\n",
    "stem = PorterStemmer()\n",
    "\n",
    "word = \"absolute\"\n",
    "print(\"Lemmatized Word:\",lem.lemmatize(word,\"v\"))\n",
    "print(\"Stemmed Word:\",stem.stem(word))"
   ]
  },
  {
   "cell_type": "code",
   "execution_count": 10,
   "metadata": {},
   "outputs": [
    {
     "ename": "NameError",
     "evalue": "name 'nltk' is not defined",
     "output_type": "error",
     "traceback": [
      "\u001b[1;31m---------------------------------------------------------------------------\u001b[0m",
      "\u001b[1;31mNameError\u001b[0m                                 Traceback (most recent call last)",
      "\u001b[1;32mc:\\Users\\mrrjh\\OneDrive\\Documents\\VSCODE\\CP322\\trash.ipynb Cell 8'\u001b[0m in \u001b[0;36m<cell line: 1>\u001b[1;34m()\u001b[0m\n\u001b[1;32m----> <a href='vscode-notebook-cell:/c%3A/Users/mrrjh/OneDrive/Documents/VSCODE/CP322/trash.ipynb#ch0000008?line=0'>1</a>\u001b[0m wordies \u001b[39m=\u001b[39m nltk\u001b[39m.\u001b[39mpos_tag(filtered_sent)\n\u001b[0;32m      <a href='vscode-notebook-cell:/c%3A/Users/mrrjh/OneDrive/Documents/VSCODE/CP322/trash.ipynb#ch0000008?line=1'>2</a>\u001b[0m keeps \u001b[39m=\u001b[39m [\u001b[39m'\u001b[39m\u001b[39mNN\u001b[39m\u001b[39m'\u001b[39m,\u001b[39m'\u001b[39m\u001b[39mNNS\u001b[39m\u001b[39m'\u001b[39m,\u001b[39m'\u001b[39m\u001b[39mNNP\u001b[39m\u001b[39m'\u001b[39m,\u001b[39m'\u001b[39m\u001b[39mNNPS\u001b[39m\u001b[39m'\u001b[39m,\u001b[39m'\u001b[39m\u001b[39mJJ\u001b[39m\u001b[39m'\u001b[39m,\u001b[39m'\u001b[39m\u001b[39mJJR\u001b[39m\u001b[39m'\u001b[39m,\u001b[39m'\u001b[39m\u001b[39mJJS\u001b[39m\u001b[39m'\u001b[39m,\u001b[39m'\u001b[39m\u001b[39mRB\u001b[39m\u001b[39m'\u001b[39m,\u001b[39m'\u001b[39m\u001b[39mRBR\u001b[39m\u001b[39m'\u001b[39m,\u001b[39m'\u001b[39m\u001b[39mRBS\u001b[39m\u001b[39m'\u001b[39m]\n\u001b[0;32m      <a href='vscode-notebook-cell:/c%3A/Users/mrrjh/OneDrive/Documents/VSCODE/CP322/trash.ipynb#ch0000008?line=2'>3</a>\u001b[0m words \u001b[39m=\u001b[39m []\n",
      "\u001b[1;31mNameError\u001b[0m: name 'nltk' is not defined"
     ]
    }
   ],
   "source": [
    "wordies = nltk.pos_tag(filtered_sent)\n",
    "keeps = ['NN','NNS','NNP','NNPS','JJ','JJR','JJS','RB','RBR','RBS']\n",
    "words = []\n",
    "\n",
    "for word in wordies:\n",
    "  if word[1] in keeps:\n",
    "    words.append(word[0])\n",
    "    \n",
    "words"
   ]
  },
  {
   "cell_type": "code",
   "execution_count": 11,
   "metadata": {},
   "outputs": [
    {
     "ename": "NameError",
     "evalue": "name 'nltk' is not defined",
     "output_type": "error",
     "traceback": [
      "\u001b[1;31m---------------------------------------------------------------------------\u001b[0m",
      "\u001b[1;31mNameError\u001b[0m                                 Traceback (most recent call last)",
      "\u001b[1;32mc:\\Users\\mrrjh\\OneDrive\\Documents\\VSCODE\\CP322\\trash.ipynb Cell 9'\u001b[0m in \u001b[0;36m<cell line: 1>\u001b[1;34m()\u001b[0m\n\u001b[1;32m----> <a href='vscode-notebook-cell:/c%3A/Users/mrrjh/OneDrive/Documents/VSCODE/CP322/trash.ipynb#ch0000009?line=0'>1</a>\u001b[0m nltk\u001b[39m.\u001b[39mhelp\u001b[39m.\u001b[39mupenn_tagset()\n",
      "\u001b[1;31mNameError\u001b[0m: name 'nltk' is not defined"
     ]
    }
   ],
   "source": [
    "nltk.help.upenn_tagset()"
   ]
  },
  {
   "cell_type": "code",
   "execution_count": null,
   "metadata": {},
   "outputs": [],
   "source": []
  }
 ],
 "metadata": {
  "interpreter": {
   "hash": "bacf26b833236dd16c1d0631dea430f371c6d715a07dbe00e5a37dc0b31d3ebe"
  },
  "kernelspec": {
   "display_name": "Python 3.10.0 64-bit",
   "language": "python",
   "name": "python3"
  },
  "language_info": {
   "codemirror_mode": {
    "name": "ipython",
    "version": 3
   },
   "file_extension": ".py",
   "mimetype": "text/x-python",
   "name": "python",
   "nbconvert_exporter": "python",
   "pygments_lexer": "ipython3",
   "version": "3.10.0"
  },
  "orig_nbformat": 4
 },
 "nbformat": 4,
 "nbformat_minor": 2
}
